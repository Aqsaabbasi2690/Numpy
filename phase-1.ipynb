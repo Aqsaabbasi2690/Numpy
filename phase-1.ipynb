{
 "cells": [
  {
   "cell_type": "markdown",
   "id": "0011786f",
   "metadata": {},
   "source": [
    "## Numpy array and basics\n",
    "learn about numpy\n"
   ]
  },
  {
   "cell_type": "code",
   "execution_count": 17,
   "id": "9e341024",
   "metadata": {},
   "outputs": [],
   "source": [
    "import numpy as np"
   ]
  },
  {
   "cell_type": "markdown",
   "id": "bfb44478",
   "metadata": {},
   "source": [
    "Creating arrays from list\n"
   ]
  },
  {
   "cell_type": "code",
   "execution_count": 18,
   "id": "531ed638",
   "metadata": {},
   "outputs": [
    {
     "name": "stdout",
     "output_type": "stream",
     "text": [
      "1D array: [1 3 4 5 5]\n",
      "2D array: [[1 3 4 5 5]\n",
      " [2 2 3 4 5]]\n"
     ]
    }
   ],
   "source": [
    "\n",
    "arr_1d = np.array([1, 3, 4, 5, 5])\n",
    "print(\"1D array:\", arr_1d)\n",
    "\n",
    "\n",
    "arr_2d = np.array([[1, 3, 4, 5, 5], [2, 2, 3, 4, 5]])\n",
    "print(\"2D array:\", arr_2d)"
   ]
  },
  {
   "cell_type": "markdown",
   "id": "e00b95f7",
   "metadata": {},
   "source": [
    "### list vs numpy arrays"
   ]
  },
  {
   "cell_type": "code",
   "execution_count": 19,
   "id": "cd1d64d5",
   "metadata": {},
   "outputs": [
    {
     "name": "stdout",
     "output_type": "stream",
     "text": [
      "Python list multiplication: [1, 2, 3, 1, 2, 3]\n",
      "Python array multiplication: [2 4 6]\n"
     ]
    }
   ],
   "source": [
    "py_list = [1,2,3]\n",
    "print(\"Python list multiplication:\", py_list * 2)\n",
    "\n",
    "np_array = np.array([1,2,3]) #elemnt wise multliplication\n",
    "print(\"Python array multiplication:\", np_array * 2)\n"
   ]
  },
  {
   "cell_type": "code",
   "execution_count": 20,
   "id": "22fe3894",
   "metadata": {},
   "outputs": [
    {
     "name": "stdout",
     "output_type": "stream",
     "text": [
      "\n",
      " numpy operation time 0.0034639835357666016\n",
      "\n",
      " numpy operation time 0.0006363391876220703\n"
     ]
    }
   ],
   "source": [
    "import time\n",
    "start = time.time()\n",
    "py_list = [i*2 for i in range(10000)]\n",
    "print(\"\\n numpy operation time\", time.time() - start)\n",
    "\n",
    "\n",
    "start = time.time() #faster than list comprehension\n",
    "np_array = np.arange(10000)*2\n",
    "print(\"\\n numpy operation time\", time.time() - start)"
   ]
  },
  {
   "cell_type": "markdown",
   "id": "a7d6f724",
   "metadata": {},
   "source": [
    "creating array from scratch"
   ]
  },
  {
   "cell_type": "code",
   "execution_count": 21,
   "id": "e3464acc",
   "metadata": {},
   "outputs": [
    {
     "name": "stdout",
     "output_type": "stream",
     "text": [
      "Zeros array:\n",
      " [[0. 0. 0. 0.]\n",
      " [0. 0. 0. 0.]\n",
      " [0. 0. 0. 0.]]\n",
      "ones array:\n",
      " [[1. 1. 1. 1.]\n",
      " [1. 1. 1. 1.]\n",
      " [1. 1. 1. 1.]]\n",
      "full array:\n",
      " [[3 3 3 3]\n",
      " [3 3 3 3]\n",
      " [3 3 3 3]]\n",
      "random array:\n",
      " [[0.16169583 0.0803527  0.98347175 0.69814881]\n",
      " [0.06534239 0.53586176 0.84516061 0.4269684 ]\n",
      " [0.82978016 0.30053645 0.86921568 0.01090932]]\n",
      "Sequence array: \n",
      " [1 3 5 7 9]\n"
     ]
    }
   ],
   "source": [
    "zeros = np.zeros((3, 4))# 3 rows 4 column\n",
    "print(\"Zeros array:\\n\", zeros)\n",
    "\n",
    "\n",
    "ones = np.ones((3, 4))# 3 rows 4 column\n",
    "print(\"ones array:\\n\", ones)\n",
    "\n",
    "\n",
    "full = np.full((3, 4), 3)# 3 rows 4 column\n",
    "print(\"full array:\\n\", full)\n",
    "\n",
    "random = np.random.random((3, 4))# 3 rows 4 column\n",
    "print(\"random array:\\n\", random)\n",
    "\n",
    "sequence = np.arange(1, 10, 2)  # start, stop, step\n",
    "print(\"Sequence array: \\n\", sequence)\n"
   ]
  },
  {
   "cell_type": "markdown",
   "id": "d12b8175",
   "metadata": {},
   "source": [
    "Vector,matrix and tensor"
   ]
  },
  {
   "cell_type": "code",
   "execution_count": 22,
   "id": "9464fb3a",
   "metadata": {},
   "outputs": [
    {
     "name": "stdout",
     "output_type": "stream",
     "text": [
      "Vector array: [1 2 3]\n",
      "Matrix array:\n",
      " [[1 2 3]\n",
      " [4 5 6]]\n",
      "Tensor array:\n",
      " [[[1 2]\n",
      "  [3 4]]\n",
      "\n",
      " [[5 6]\n",
      "  [7 8]]]\n"
     ]
    }
   ],
   "source": [
    "vector = np.array([1, 2, 3])\n",
    "print(\"Vector array:\", vector)\n",
    "\n",
    "\n",
    "matrix = np.array([[1, 2, 3], \n",
    "                   [4, 5, 6]])\n",
    "print(\"Matrix array:\\n\", matrix)\n",
    "\n",
    "\n",
    "# Tensor is a multi-dimensional array like more than 2D\n",
    "tensor = np.array([[[1, 2], [3, 4]], \n",
    "                   [[5, 6], [7, 8]]])\n",
    "print(\"Tensor array:\\n\", tensor)"
   ]
  },
  {
   "cell_type": "markdown",
   "id": "8b43e84a",
   "metadata": {},
   "source": [
    "### Arrays Properties"
   ]
  },
  {
   "cell_type": "code",
   "execution_count": null,
   "id": "b9b168cb",
   "metadata": {},
   "outputs": [],
   "source": [
    "arr = np.array([[1, 2, 3, 4, 5],\n",
    "               [1, 2, 3, 4, 5]])  \n",
    "print(\"Array with shape :\", arr.shape)#it will give rows and columns of the array\n",
    "print(\"Array with dimension :\", arr.ndim)#tells how many dimensions the array has\n",
    "print(\"Array with data type :\", arr.dtype)#tells the data type of the array\n",
    "print(\"Array with size :\", arr.size)  # total number of elements in the array"
   ]
  },
  {
   "cell_type": "markdown",
   "id": "c020c8a9",
   "metadata": {},
   "source": [
    "### Array reshaping"
   ]
  },
  {
   "cell_type": "code",
   "execution_count": null,
   "id": "e1d0bc94",
   "metadata": {},
   "outputs": [],
   "source": [
    "arr = np.arange(12)\n",
    "print(\"original array\", arr)\n",
    "\n",
    "\n",
    "reshaped_arr = arr.reshape(3, 4)  # Reshape to 3 rows and 4 columns\n",
    "print(\"\\nReshaped array:\\n\", reshaped_arr)\n",
    "\n",
    "# flattened return copy\n",
    "flattened = reshaped_arr.flatten()  # Flatten the array to 1D\n",
    "print(\"\\nFlattened array:\", flattened)\n",
    "\n",
    "# ravel return view\n",
    "raveled = reshaped_arr.ravel()  # Ravel the array to 1D\n",
    "print(\"\\nRaveled array:\", raveled)\n",
    "\n",
    "#transpose\n",
    "arr = np.array([[1, 2, 3], [4, 5, 6]])\n",
    "reshaped = arr.reshape(3, 2)  # Reshape into 3 rows, 2 columns\n",
    "transpose = reshaped.T\n",
    "print(\"\\n Transposed\", transpose)"
   ]
  }
 ],
 "metadata": {
  "kernelspec": {
   "display_name": "venv",
   "language": "python",
   "name": "python3"
  },
  "language_info": {
   "codemirror_mode": {
    "name": "ipython",
    "version": 3
   },
   "file_extension": ".py",
   "mimetype": "text/x-python",
   "name": "python",
   "nbconvert_exporter": "python",
   "pygments_lexer": "ipython3",
   "version": "3.13.3"
  }
 },
 "nbformat": 4,
 "nbformat_minor": 5
}
